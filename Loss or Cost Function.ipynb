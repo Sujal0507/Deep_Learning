{
 "cells": [
  {
   "cell_type": "code",
   "execution_count": 1,
   "id": "87002124-ebee-4f35-a338-60021c6ecec7",
   "metadata": {},
   "outputs": [],
   "source": [
    "import numpy as np\n",
    "y_predicted = np.array([1,1,0,0,1])\n",
    "y_true = np.array([0.3,0.7,1,0,0.5])"
   ]
  },
  {
   "cell_type": "code",
   "execution_count": 3,
   "id": "a4acd239-630c-43f1-8d32-6cfe9f2a47ff",
   "metadata": {},
   "outputs": [],
   "source": [
    "#Mean Absoulute Error\n",
    "def mae(y_true,y_predicted):\n",
    "    total_error = 0 \n",
    "    for yt,yp in zip(y_true,y_predicted):\n",
    "        total_error += abs(yt - yp)\n",
    "    print(\"Total Error is : \",total_error)\n",
    "    mae = total_error / len(y_true)\n",
    "    print(\"MAE : \",mae)\n",
    "    "
   ]
  },
  {
   "cell_type": "code",
   "execution_count": 5,
   "id": "e7cb3716-8d3a-4423-95ba-288fa3593f98",
   "metadata": {},
   "outputs": [
    {
     "name": "stdout",
     "output_type": "stream",
     "text": [
      "Total Error is :  2.5\n",
      "MAE :  0.5\n"
     ]
    }
   ],
   "source": [
    "mae(y_true,y_predicted)"
   ]
  },
  {
   "cell_type": "code",
   "execution_count": 7,
   "id": "ab38aaaf-1cd5-40f5-b07b-95898308c552",
   "metadata": {},
   "outputs": [
    {
     "data": {
      "text/plain": [
       "array([0.7, 0.3, 1. , 0. , 0.5])"
      ]
     },
     "execution_count": 7,
     "metadata": {},
     "output_type": "execute_result"
    }
   ],
   "source": [
    "#Np is very powerful \n",
    "np.abs(y_predicted - y_true)"
   ]
  },
  {
   "cell_type": "code",
   "execution_count": 9,
   "id": "928cb311-884a-4d2b-9def-7b481b842e35",
   "metadata": {},
   "outputs": [
    {
     "data": {
      "text/plain": [
       "0.5"
      ]
     },
     "execution_count": 9,
     "metadata": {},
     "output_type": "execute_result"
    }
   ],
   "source": [
    "np.mean(np.abs(y_predicted - y_true))"
   ]
  },
  {
   "cell_type": "code",
   "execution_count": 11,
   "id": "f72fdd0e-f00f-4df2-a36c-271253098f48",
   "metadata": {},
   "outputs": [
    {
     "data": {
      "text/plain": [
       "2.5"
      ]
     },
     "execution_count": 11,
     "metadata": {},
     "output_type": "execute_result"
    }
   ],
   "source": [
    "np.sum(np.abs(y_predicted - y_true))"
   ]
  },
  {
   "cell_type": "code",
   "execution_count": 15,
   "id": "547e0dbd-5dd8-485a-9b8b-eec64c6244df",
   "metadata": {},
   "outputs": [
    {
     "data": {
      "text/plain": [
       "array([2.48490665])"
      ]
     },
     "execution_count": 15,
     "metadata": {},
     "output_type": "execute_result"
    }
   ],
   "source": [
    "#Log loss or binary cross entropy\n",
    "np.log([12])"
   ]
  },
  {
   "cell_type": "code",
   "execution_count": 17,
   "id": "ae201e4c-f990-4a5c-9288-3a55126e80b0",
   "metadata": {},
   "outputs": [],
   "source": [
    "epsilon = 1e-15"
   ]
  },
  {
   "cell_type": "code",
   "execution_count": 23,
   "id": "590b74e4-a751-439a-8337-ffd4e51b1e24",
   "metadata": {},
   "outputs": [],
   "source": [
    "y_predicted_new = [max(i,epsilon)for i in y_predicted]"
   ]
  },
  {
   "cell_type": "code",
   "execution_count": 25,
   "id": "3d3bbb22-13a5-41bf-9839-bec6730b7e95",
   "metadata": {},
   "outputs": [
    {
     "data": {
      "text/plain": [
       "[1, 1, 1e-15, 1e-15, 1]"
      ]
     },
     "execution_count": 25,
     "metadata": {},
     "output_type": "execute_result"
    }
   ],
   "source": [
    "y_predicted_new"
   ]
  },
  {
   "cell_type": "code",
   "execution_count": 33,
   "id": "caeb8395-4160-415c-97d5-ee1a7b2231e3",
   "metadata": {},
   "outputs": [],
   "source": [
    "y_predicted_new1 = [min(i,1-epsilon)for i in y_predicted]"
   ]
  },
  {
   "cell_type": "code",
   "execution_count": 35,
   "id": "eaf3bf16-57a4-4139-88d0-4d48f234f4ba",
   "metadata": {},
   "outputs": [
    {
     "data": {
      "text/plain": [
       "[0.999999999999999, 0.999999999999999, 0, 0, 0.999999999999999]"
      ]
     },
     "execution_count": 35,
     "metadata": {},
     "output_type": "execute_result"
    }
   ],
   "source": [
    "y_predicted_new1"
   ]
  },
  {
   "cell_type": "code",
   "execution_count": null,
   "id": "29986a0c-d09a-43a9-aaee-b14bb7b4191e",
   "metadata": {},
   "outputs": [],
   "source": []
  }
 ],
 "metadata": {
  "kernelspec": {
   "display_name": "Python 3 (ipykernel)",
   "language": "python",
   "name": "python3"
  },
  "language_info": {
   "codemirror_mode": {
    "name": "ipython",
    "version": 3
   },
   "file_extension": ".py",
   "mimetype": "text/x-python",
   "name": "python",
   "nbconvert_exporter": "python",
   "pygments_lexer": "ipython3",
   "version": "3.12.7"
  }
 },
 "nbformat": 4,
 "nbformat_minor": 5
}
